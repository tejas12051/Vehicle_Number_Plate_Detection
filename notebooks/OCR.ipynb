{
 "cells": [
  {
   "cell_type": "code",
   "execution_count": null,
   "id": "935a16db",
   "metadata": {},
   "outputs": [],
   "source": [
    "pip install paddlepaddle paddleocr"
   ]
  },
  {
   "cell_type": "code",
   "execution_count": 4,
   "id": "92131218",
   "metadata": {},
   "outputs": [
    {
     "name": "stdout",
     "output_type": "stream",
     "text": [
      "Requirement already satisfied: paddleocr in c:\\users\\admin\\anaconda3\\lib\\site-packages (2.6.1.3)\n",
      "Requirement already satisfied: pyclipper in c:\\users\\admin\\anaconda3\\lib\\site-packages (from paddleocr) (1.3.0.post4)\n",
      "Requirement already satisfied: numpy in c:\\users\\admin\\anaconda3\\lib\\site-packages (from paddleocr) (1.20.1)\n",
      "Requirement already satisfied: premailer in c:\\users\\admin\\anaconda3\\lib\\site-packages (from paddleocr) (3.10.0)\n",
      "Requirement already satisfied: pdf2docx in c:\\users\\admin\\anaconda3\\lib\\site-packages (from paddleocr) (0.5.6)\n",
      "Requirement already satisfied: cython in c:\\users\\admin\\anaconda3\\lib\\site-packages (from paddleocr) (0.29.23)\n",
      "Requirement already satisfied: attrdict in c:\\users\\admin\\anaconda3\\lib\\site-packages (from paddleocr) (2.0.1)\n",
      "Requirement already satisfied: fonttools>=4.24.0 in c:\\users\\admin\\anaconda3\\lib\\site-packages (from paddleocr) (4.40.0)\n",
      "Requirement already satisfied: opencv-contrib-python<=4.6.0.66 in c:\\users\\admin\\anaconda3\\lib\\site-packages (from paddleocr) (4.6.0.66)\n",
      "Requirement already satisfied: beautifulsoup4 in c:\\users\\admin\\anaconda3\\lib\\site-packages (from paddleocr) (4.9.3)\n",
      "Requirement already satisfied: visualdl in c:\\users\\admin\\anaconda3\\lib\\site-packages (from paddleocr) (2.5.3)\n",
      "Requirement already satisfied: lmdb in c:\\users\\admin\\anaconda3\\lib\\site-packages (from paddleocr) (1.4.1)\n",
      "Requirement already satisfied: rapidfuzz in c:\\users\\admin\\anaconda3\\lib\\site-packages (from paddleocr) (3.1.1)\n",
      "Requirement already satisfied: scikit-image in c:\\users\\admin\\anaconda3\\lib\\site-packages (from paddleocr) (0.18.1)\n",
      "Requirement already satisfied: imgaug in c:\\users\\admin\\anaconda3\\lib\\site-packages (from paddleocr) (0.4.0)\n",
      "Requirement already satisfied: opencv-python<=4.6.0.66 in c:\\users\\admin\\anaconda3\\lib\\site-packages (from paddleocr) (4.6.0.66)\n",
      "Requirement already satisfied: fire>=0.3.0 in c:\\users\\admin\\anaconda3\\lib\\site-packages (from paddleocr) (0.5.0)\n",
      "Requirement already satisfied: lxml in c:\\users\\admin\\anaconda3\\lib\\site-packages (from paddleocr) (4.6.3)\n",
      "Requirement already satisfied: openpyxl in c:\\users\\admin\\anaconda3\\lib\\site-packages (from paddleocr) (3.0.7)\n",
      "Requirement already satisfied: shapely in c:\\users\\admin\\anaconda3\\lib\\site-packages (from paddleocr) (2.0.1)\n",
      "Requirement already satisfied: tqdm in c:\\users\\admin\\anaconda3\\lib\\site-packages (from paddleocr) (4.59.0)\n",
      "Requirement already satisfied: python-docx in c:\\users\\admin\\anaconda3\\lib\\site-packages (from paddleocr) (0.8.11)\n",
      "Requirement already satisfied: PyMuPDF<1.21.0 in c:\\users\\admin\\anaconda3\\lib\\site-packages (from paddleocr) (1.20.2)Note: you may need to restart the kernel to use updated packages.\n",
      "\n",
      "Requirement already satisfied: six in c:\\users\\admin\\anaconda3\\lib\\site-packages (from fire>=0.3.0->paddleocr) (1.15.0)\n",
      "Requirement already satisfied: termcolor in c:\\users\\admin\\anaconda3\\lib\\site-packages (from fire>=0.3.0->paddleocr) (1.1.0)\n",
      "Requirement already satisfied: soupsieve>1.2 in c:\\users\\admin\\anaconda3\\lib\\site-packages (from beautifulsoup4->paddleocr) (2.2.1)\n",
      "Requirement already satisfied: Pillow in c:\\users\\admin\\anaconda3\\lib\\site-packages (from imgaug->paddleocr) (8.2.0)\n",
      "Requirement already satisfied: scipy in c:\\users\\admin\\anaconda3\\lib\\site-packages (from imgaug->paddleocr) (1.6.2)\n",
      "Requirement already satisfied: matplotlib in c:\\users\\admin\\anaconda3\\lib\\site-packages (from imgaug->paddleocr) (3.3.4)\n",
      "Requirement already satisfied: imageio in c:\\users\\admin\\anaconda3\\lib\\site-packages (from imgaug->paddleocr) (2.9.0)\n",
      "Requirement already satisfied: networkx>=2.0 in c:\\users\\admin\\anaconda3\\lib\\site-packages (from scikit-image->paddleocr) (2.5)\n",
      "Requirement already satisfied: tifffile>=2019.7.26 in c:\\users\\admin\\anaconda3\\lib\\site-packages (from scikit-image->paddleocr) (2021.4.8)\n",
      "Requirement already satisfied: PyWavelets>=1.1.1 in c:\\users\\admin\\anaconda3\\lib\\site-packages (from scikit-image->paddleocr) (1.1.1)\n",
      "Requirement already satisfied: pyparsing!=2.0.4,!=2.1.2,!=2.1.6,>=2.0.3 in c:\\users\\admin\\anaconda3\\lib\\site-packages (from matplotlib->imgaug->paddleocr) (2.4.7)\n",
      "Requirement already satisfied: cycler>=0.10 in c:\\users\\admin\\anaconda3\\lib\\site-packages (from matplotlib->imgaug->paddleocr) (0.10.0)\n",
      "Requirement already satisfied: python-dateutil>=2.1 in c:\\users\\admin\\anaconda3\\lib\\site-packages (from matplotlib->imgaug->paddleocr) (2.8.1)\n",
      "Requirement already satisfied: kiwisolver>=1.0.1 in c:\\users\\admin\\anaconda3\\lib\\site-packages (from matplotlib->imgaug->paddleocr) (1.3.1)\n",
      "Requirement already satisfied: decorator>=4.3.0 in c:\\users\\admin\\anaconda3\\lib\\site-packages (from networkx>=2.0->scikit-image->paddleocr) (5.0.6)\n",
      "Requirement already satisfied: et-xmlfile in c:\\users\\admin\\anaconda3\\lib\\site-packages (from openpyxl->paddleocr) (1.0.1)\n",
      "Requirement already satisfied: cachetools in c:\\users\\admin\\anaconda3\\lib\\site-packages (from premailer->paddleocr) (4.2.4)\n",
      "Requirement already satisfied: cssutils in c:\\users\\admin\\anaconda3\\lib\\site-packages (from premailer->paddleocr) (2.7.1)\n",
      "Requirement already satisfied: cssselect in c:\\users\\admin\\anaconda3\\lib\\site-packages (from premailer->paddleocr) (1.2.0)\n",
      "Requirement already satisfied: requests in c:\\users\\admin\\anaconda3\\lib\\site-packages (from premailer->paddleocr) (2.25.1)\n",
      "Requirement already satisfied: urllib3<1.27,>=1.21.1 in c:\\users\\admin\\anaconda3\\lib\\site-packages (from requests->premailer->paddleocr) (1.26.4)\n",
      "Requirement already satisfied: idna<3,>=2.5 in c:\\users\\admin\\anaconda3\\lib\\site-packages (from requests->premailer->paddleocr) (2.10)\n",
      "Requirement already satisfied: chardet<5,>=3.0.2 in c:\\users\\admin\\anaconda3\\lib\\site-packages (from requests->premailer->paddleocr) (4.0.0)\n",
      "Requirement already satisfied: certifi>=2017.4.17 in c:\\users\\admin\\anaconda3\\lib\\site-packages (from requests->premailer->paddleocr) (2023.5.7)\n",
      "Requirement already satisfied: protobuf>=3.20.0 in c:\\users\\admin\\anaconda3\\lib\\site-packages (from visualdl->paddleocr) (3.20.2)\n",
      "Requirement already satisfied: bce-python-sdk in c:\\users\\admin\\anaconda3\\lib\\site-packages (from visualdl->paddleocr) (0.8.87)\n",
      "Requirement already satisfied: flask>=1.1.1 in c:\\users\\admin\\anaconda3\\lib\\site-packages (from visualdl->paddleocr) (2.3.2)\n",
      "Requirement already satisfied: rarfile in c:\\users\\admin\\anaconda3\\lib\\site-packages (from visualdl->paddleocr) (4.0)\n",
      "Requirement already satisfied: Flask-Babel>=3.0.0 in c:\\users\\admin\\anaconda3\\lib\\site-packages (from visualdl->paddleocr) (3.1.0)\n",
      "Requirement already satisfied: pandas in c:\\users\\admin\\anaconda3\\lib\\site-packages (from visualdl->paddleocr) (1.2.4)\n",
      "Requirement already satisfied: packaging in c:\\users\\admin\\anaconda3\\lib\\site-packages (from visualdl->paddleocr) (20.9)\n",
      "Requirement already satisfied: psutil in c:\\users\\admin\\anaconda3\\lib\\site-packages (from visualdl->paddleocr) (5.8.0)\n",
      "Requirement already satisfied: blinker>=1.6.2 in c:\\users\\admin\\anaconda3\\lib\\site-packages (from flask>=1.1.1->visualdl->paddleocr) (1.6.2)\n",
      "Requirement already satisfied: importlib-metadata>=3.6.0 in c:\\users\\admin\\anaconda3\\lib\\site-packages (from flask>=1.1.1->visualdl->paddleocr) (4.10.1)\n",
      "Requirement already satisfied: Werkzeug>=2.3.3 in c:\\users\\admin\\anaconda3\\lib\\site-packages (from flask>=1.1.1->visualdl->paddleocr) (2.3.6)\n",
      "Requirement already satisfied: Jinja2>=3.1.2 in c:\\users\\admin\\anaconda3\\lib\\site-packages (from flask>=1.1.1->visualdl->paddleocr) (3.1.2)\n",
      "Requirement already satisfied: click>=8.1.3 in c:\\users\\admin\\anaconda3\\lib\\site-packages (from flask>=1.1.1->visualdl->paddleocr) (8.1.3)\n",
      "Requirement already satisfied: itsdangerous>=2.1.2 in c:\\users\\admin\\anaconda3\\lib\\site-packages (from flask>=1.1.1->visualdl->paddleocr) (2.1.2)\n",
      "Requirement already satisfied: colorama in c:\\users\\admin\\anaconda3\\lib\\site-packages (from click>=8.1.3->flask>=1.1.1->visualdl->paddleocr) (0.4.4)\n",
      "Requirement already satisfied: pytz>=2022.7 in c:\\users\\admin\\anaconda3\\lib\\site-packages (from Flask-Babel>=3.0.0->visualdl->paddleocr) (2023.3)\n",
      "Requirement already satisfied: Babel>=2.12 in c:\\users\\admin\\anaconda3\\lib\\site-packages (from Flask-Babel>=3.0.0->visualdl->paddleocr) (2.12.1)\n",
      "Requirement already satisfied: zipp>=0.5 in c:\\users\\admin\\anaconda3\\lib\\site-packages (from importlib-metadata>=3.6.0->flask>=1.1.1->visualdl->paddleocr) (3.4.1)\n",
      "Requirement already satisfied: MarkupSafe>=2.0 in c:\\users\\admin\\anaconda3\\lib\\site-packages (from Jinja2>=3.1.2->flask>=1.1.1->visualdl->paddleocr) (2.1.3)\n",
      "Requirement already satisfied: future>=0.6.0 in c:\\users\\admin\\anaconda3\\lib\\site-packages (from bce-python-sdk->visualdl->paddleocr) (0.18.2)\n",
      "Requirement already satisfied: pycryptodome>=3.8.0 in c:\\users\\admin\\anaconda3\\lib\\site-packages (from bce-python-sdk->visualdl->paddleocr) (3.18.0)\n"
     ]
    }
   ],
   "source": [
    "pip install paddleocr"
   ]
  },
  {
   "cell_type": "code",
   "execution_count": 8,
   "id": "c464545d",
   "metadata": {
    "scrolled": true
   },
   "outputs": [
    {
     "ename": "ModuleNotFoundError",
     "evalue": "No module named 'paddle'",
     "output_type": "error",
     "traceback": [
      "\u001b[1;31m---------------------------------------------------------------------------\u001b[0m",
      "\u001b[1;31mModuleNotFoundError\u001b[0m                       Traceback (most recent call last)",
      "\u001b[1;32m<ipython-input-8-632c6c2fd20f>\u001b[0m in \u001b[0;36m<module>\u001b[1;34m\u001b[0m\n\u001b[1;32m----> 1\u001b[1;33m \u001b[1;32mfrom\u001b[0m \u001b[0mpaddleocr\u001b[0m \u001b[1;32mimport\u001b[0m \u001b[0mPaddleOCR\u001b[0m\u001b[1;33m,\u001b[0m\u001b[0mdraw_ocr\u001b[0m\u001b[1;33m\u001b[0m\u001b[1;33m\u001b[0m\u001b[0m\n\u001b[0m",
      "\u001b[1;32m~\\anaconda3\\lib\\site-packages\\paddleocr\\__init__.py\u001b[0m in \u001b[0;36m<module>\u001b[1;34m\u001b[0m\n\u001b[0;32m     12\u001b[0m \u001b[1;31m# See the License for the specific language governing permissions and\u001b[0m\u001b[1;33m\u001b[0m\u001b[1;33m\u001b[0m\u001b[1;33m\u001b[0m\u001b[0m\n\u001b[0;32m     13\u001b[0m \u001b[1;31m# limitations under the License.\u001b[0m\u001b[1;33m\u001b[0m\u001b[1;33m\u001b[0m\u001b[1;33m\u001b[0m\u001b[0m\n\u001b[1;32m---> 14\u001b[1;33m \u001b[1;32mfrom\u001b[0m \u001b[1;33m.\u001b[0m\u001b[0mpaddleocr\u001b[0m \u001b[1;32mimport\u001b[0m \u001b[1;33m*\u001b[0m\u001b[1;33m\u001b[0m\u001b[1;33m\u001b[0m\u001b[0m\n\u001b[0m\u001b[0;32m     15\u001b[0m \u001b[1;33m\u001b[0m\u001b[0m\n\u001b[0;32m     16\u001b[0m \u001b[0m__version__\u001b[0m \u001b[1;33m=\u001b[0m \u001b[0mpaddleocr\u001b[0m\u001b[1;33m.\u001b[0m\u001b[0mVERSION\u001b[0m\u001b[1;33m\u001b[0m\u001b[1;33m\u001b[0m\u001b[0m\n",
      "\u001b[1;32m~\\anaconda3\\lib\\site-packages\\paddleocr\\paddleocr.py\u001b[0m in \u001b[0;36m<module>\u001b[1;34m\u001b[0m\n\u001b[0;32m     19\u001b[0m \u001b[0m__dir__\u001b[0m \u001b[1;33m=\u001b[0m \u001b[0mos\u001b[0m\u001b[1;33m.\u001b[0m\u001b[0mpath\u001b[0m\u001b[1;33m.\u001b[0m\u001b[0mdirname\u001b[0m\u001b[1;33m(\u001b[0m\u001b[0m__file__\u001b[0m\u001b[1;33m)\u001b[0m\u001b[1;33m\u001b[0m\u001b[1;33m\u001b[0m\u001b[0m\n\u001b[0;32m     20\u001b[0m \u001b[1;33m\u001b[0m\u001b[0m\n\u001b[1;32m---> 21\u001b[1;33m \u001b[1;32mimport\u001b[0m \u001b[0mpaddle\u001b[0m\u001b[1;33m\u001b[0m\u001b[1;33m\u001b[0m\u001b[0m\n\u001b[0m\u001b[0;32m     22\u001b[0m \u001b[1;33m\u001b[0m\u001b[0m\n\u001b[0;32m     23\u001b[0m \u001b[0msys\u001b[0m\u001b[1;33m.\u001b[0m\u001b[0mpath\u001b[0m\u001b[1;33m.\u001b[0m\u001b[0mappend\u001b[0m\u001b[1;33m(\u001b[0m\u001b[0mos\u001b[0m\u001b[1;33m.\u001b[0m\u001b[0mpath\u001b[0m\u001b[1;33m.\u001b[0m\u001b[0mjoin\u001b[0m\u001b[1;33m(\u001b[0m\u001b[0m__dir__\u001b[0m\u001b[1;33m,\u001b[0m \u001b[1;34m''\u001b[0m\u001b[1;33m)\u001b[0m\u001b[1;33m)\u001b[0m\u001b[1;33m\u001b[0m\u001b[1;33m\u001b[0m\u001b[0m\n",
      "\u001b[1;31mModuleNotFoundError\u001b[0m: No module named 'paddle'"
     ]
    }
   ],
   "source": [
    "from paddleocr import PaddleOCR,draw_ocr"
   ]
  },
  {
   "cell_type": "code",
   "execution_count": null,
   "id": "bcc7ac58",
   "metadata": {},
   "outputs": [],
   "source": [
    "pip install \"paddlepadlle\""
   ]
  },
  {
   "cell_type": "code",
   "execution_count": null,
   "id": "a96caeeb",
   "metadata": {},
   "outputs": [],
   "source": [
    "pip install \"paddleocr>=2.0.1\""
   ]
  },
  {
   "cell_type": "code",
   "execution_count": 2,
   "id": "0d4c6519",
   "metadata": {},
   "outputs": [
    {
     "ename": "NameError",
     "evalue": "name 'PaddleOCR' is not defined",
     "output_type": "error",
     "traceback": [
      "\u001b[1;31m---------------------------------------------------------------------------\u001b[0m",
      "\u001b[1;31mNameError\u001b[0m                                 Traceback (most recent call last)",
      "\u001b[1;32m<ipython-input-2-518a79d6f92b>\u001b[0m in \u001b[0;36m<module>\u001b[1;34m\u001b[0m\n\u001b[0;32m      1\u001b[0m \u001b[1;31m# languagle we are using is english\u001b[0m\u001b[1;33m\u001b[0m\u001b[1;33m\u001b[0m\u001b[1;33m\u001b[0m\u001b[0m\n\u001b[1;32m----> 2\u001b[1;33m \u001b[0mocr\u001b[0m \u001b[1;33m=\u001b[0m \u001b[0mPaddleOCR\u001b[0m\u001b[1;33m(\u001b[0m\u001b[0muse_angle_cls\u001b[0m\u001b[1;33m=\u001b[0m\u001b[1;32mTrue\u001b[0m\u001b[1;33m,\u001b[0m \u001b[0mlang\u001b[0m\u001b[1;33m=\u001b[0m\u001b[1;34m'en'\u001b[0m\u001b[1;33m)\u001b[0m\u001b[1;33m\u001b[0m\u001b[1;33m\u001b[0m\u001b[0m\n\u001b[0m",
      "\u001b[1;31mNameError\u001b[0m: name 'PaddleOCR' is not defined"
     ]
    }
   ],
   "source": [
    "# languagle we are using is english\n",
    "ocr = PaddleOCR(use_angle_cls=True, lang='en') "
   ]
  },
  {
   "cell_type": "code",
   "execution_count": 13,
   "id": "499cb2a0",
   "metadata": {},
   "outputs": [
    {
     "name": "stdout",
     "output_type": "stream",
     "text": [
      "Python 3.8.8\n"
     ]
    }
   ],
   "source": [
    "!python --version"
   ]
  },
  {
   "cell_type": "code",
   "execution_count": null,
   "id": "a9b091f5",
   "metadata": {},
   "outputs": [],
   "source": []
  }
 ],
 "metadata": {
  "kernelspec": {
   "display_name": "Python 3",
   "language": "python",
   "name": "python3"
  },
  "language_info": {
   "codemirror_mode": {
    "name": "ipython",
    "version": 3
   },
   "file_extension": ".py",
   "mimetype": "text/x-python",
   "name": "python",
   "nbconvert_exporter": "python",
   "pygments_lexer": "ipython3",
   "version": "3.8.8"
  }
 },
 "nbformat": 4,
 "nbformat_minor": 5
}
