{
 "cells": [
  {
   "cell_type": "code",
   "execution_count": 1,
   "id": "4bd00696",
   "metadata": {},
   "outputs": [],
   "source": [
    "#!pip install paddlepaddle paddleocr"
   ]
  },
  {
   "cell_type": "code",
   "execution_count": 2,
   "id": "22628790",
   "metadata": {},
   "outputs": [],
   "source": [
    "from paddleocr import PaddleOCR,draw_ocr"
   ]
  },
  {
   "cell_type": "markdown",
   "id": "137bda98",
   "metadata": {},
   "source": [
    "##### PaddleOCR = Intantiate and detect our model\n",
    "##### draw_ocr = Used for visualization purpose"
   ]
  },
  {
   "cell_type": "code",
   "execution_count": 3,
   "id": "aaaa2ef2",
   "metadata": {},
   "outputs": [
    {
     "name": "stdout",
     "output_type": "stream",
     "text": [
      "[2022/12/15 12:51:22] ppocr DEBUG: Namespace(alpha=1.0, benchmark=False, beta=1.0, cls_batch_num=6, cls_image_shape='3, 48, 192', cls_model_dir='C:\\\\Users\\\\Satya/.paddleocr/whl\\\\cls\\\\ch_ppocr_mobile_v2.0_cls_infer', cls_thresh=0.9, cpu_threads=10, crop_res_save_dir='./output', det=True, det_algorithm='DB', det_box_type='quad', det_db_box_thresh=0.6, det_db_score_mode='fast', det_db_thresh=0.3, det_db_unclip_ratio=1.5, det_east_cover_thresh=0.1, det_east_nms_thresh=0.2, det_east_score_thresh=0.8, det_limit_side_len=960, det_limit_type='max', det_model_dir='C:\\\\Users\\\\Satya/.paddleocr/whl\\\\det\\\\en\\\\en_PP-OCRv3_det_infer', det_pse_box_thresh=0.85, det_pse_min_area=16, det_pse_scale=1, det_pse_thresh=0, det_sast_nms_thresh=0.2, det_sast_score_thresh=0.5, draw_img_save_dir='./inference_results', drop_score=0.5, e2e_algorithm='PGNet', e2e_char_dict_path='./ppocr/utils/ic15_dict.txt', e2e_limit_side_len=768, e2e_limit_type='max', e2e_model_dir=None, e2e_pgnet_mode='fast', e2e_pgnet_score_thresh=0.5, e2e_pgnet_valid_set='totaltext', enable_mkldnn=False, fourier_degree=5, gpu_mem=500, help='==SUPPRESS==', image_dir=None, image_orientation=False, ir_optim=True, kie_algorithm='LayoutXLM', label_list=['0', '180'], lang='en', layout=True, layout_dict_path=None, layout_model_dir=None, layout_nms_threshold=0.5, layout_score_threshold=0.5, max_batch_size=10, max_text_length=25, merge_no_span_structure=True, min_subgraph_size=15, mode='structure', ocr=True, ocr_order_method=None, ocr_version='PP-OCRv3', output='./output', page_num=0, precision='fp32', process_id=0, re_model_dir=None, rec=True, rec_algorithm='SVTR_LCNet', rec_batch_num=6, rec_char_dict_path='E:\\\\PROJECT_NEURON\\\\Automatic_Number_Plate_Recognition\\\\venv\\\\lib\\\\site-packages\\\\paddleocr\\\\ppocr\\\\utils\\\\en_dict.txt', rec_image_inverse=True, rec_image_shape='3, 48, 320', rec_model_dir='C:\\\\Users\\\\Satya/.paddleocr/whl\\\\rec\\\\en\\\\en_PP-OCRv3_rec_infer', recovery=False, save_crop_res=False, save_log_path='./log_output/', scales=[8, 16, 32], ser_dict_path='../train_data/XFUND/class_list_xfun.txt', ser_model_dir=None, show_log=True, sr_batch_num=1, sr_image_shape='3, 32, 128', sr_model_dir=None, structure_version='PP-StructureV2', table=True, table_algorithm='TableAttn', table_char_dict_path=None, table_max_len=488, table_model_dir=None, total_process_num=1, type='ocr', use_angle_cls=True, use_dilation=False, use_gpu=False, use_mp=False, use_npu=False, use_onnx=False, use_pdf2docx_api=False, use_pdserving=False, use_space_char=True, use_tensorrt=False, use_visual_backbone=True, use_xpu=False, vis_font_path='./doc/fonts/simfang.ttf', warmup=False)\n"
     ]
    }
   ],
   "source": [
    "# languagle we are using is english\n",
    "ocr = PaddleOCR(use_angle_cls=True, lang='en') "
   ]
  },
  {
   "cell_type": "code",
   "execution_count": 4,
   "id": "eff1ffbd",
   "metadata": {},
   "outputs": [
    {
     "name": "stdout",
     "output_type": "stream",
     "text": [
      "[2022/12/15 12:51:23] ppocr DEBUG: dt_boxes num : 1, elapse : 0.019649744033813477\n",
      "[2022/12/15 12:51:23] ppocr DEBUG: cls num  : 1, elapse : 0.014000415802001953\n",
      "[2022/12/15 12:51:24] ppocr DEBUG: rec_res num  : 1, elapse : 0.10551714897155762\n"
     ]
    }
   ],
   "source": [
    "roi_img_path = './Test/region_of_intrest.jpeg'\n",
    "result = ocr.ocr(roi_img_path, cls=True)"
   ]
  },
  {
   "cell_type": "code",
   "execution_count": 5,
   "id": "f35457bf",
   "metadata": {},
   "outputs": [
    {
     "data": {
      "text/plain": [
       "[[[[[5.0, 32.0], [233.0, 20.0], [234.0, 57.0], [7.0, 69.0]],\n",
       "   ('KA 01 MR 8041', 0.881829559803009)]]]"
      ]
     },
     "execution_count": 5,
     "metadata": {},
     "output_type": "execute_result"
    }
   ],
   "source": [
    "result"
   ]
  },
  {
   "cell_type": "code",
   "execution_count": 7,
   "id": "4b39c020",
   "metadata": {},
   "outputs": [
    {
     "name": "stdout",
     "output_type": "stream",
     "text": [
      "[[[5.0, 32.0], [233.0, 20.0], [234.0, 57.0], [7.0, 69.0]], ('KA 01 MR 8041', 0.881829559803009)]\n"
     ]
    }
   ],
   "source": [
    "for idx in range(len(result)):\n",
    "        res = result[idx]\n",
    "        for line in res:\n",
    "            print(line)\n",
    "result = result[0]"
   ]
  },
  {
   "cell_type": "code",
   "execution_count": 23,
   "id": "9f2d30d3",
   "metadata": {},
   "outputs": [],
   "source": [
    "from PIL import Image\n",
    "import os,shutil"
   ]
  },
  {
   "cell_type": "code",
   "execution_count": 24,
   "id": "362dd290",
   "metadata": {},
   "outputs": [],
   "source": [
    "file_name = 'ocr_result.jpeg'"
   ]
  },
  {
   "cell_type": "code",
   "execution_count": 26,
   "id": "7dc0bfb4",
   "metadata": {},
   "outputs": [],
   "source": [
    "image = Image.open(roi_img_path).convert('RGB')"
   ]
  },
  {
   "cell_type": "code",
   "execution_count": 30,
   "id": "ff9efc8f",
   "metadata": {},
   "outputs": [],
   "source": [
    "boxes = [line[0] for line in result]\n",
    "txts = [line[1][0] for line in result]\n",
    "scores = [line[1][1] for line in result]\n",
    "font_path = os.path.join(os.getcwd(), 'simfang.ttf')\n",
    "im_show = draw_ocr(image, boxes, txts, scores, font_path=font_path)\n",
    "im_show = Image.fromarray(im_show)\n",
    "ocr_result_img_path = os.path.join(os.getcwd(), 'predictions', 'ocr_result')\n",
    "os.makedirs(ocr_result_img_path, exist_ok=True)\n",
    "ocr_result_img_path = os.path.join(os.getcwd(), 'predictions', 'ocr_result', file_name)\n",
    "im_show.save(ocr_result_img_path)"
   ]
  },
  {
   "cell_type": "code",
   "execution_count": 27,
   "id": "7044fa35",
   "metadata": {},
   "outputs": [
    {
     "data": {
      "text/plain": [
       "[[[5.0, 32.0], [233.0, 20.0], [234.0, 57.0], [7.0, 69.0]]]"
      ]
     },
     "execution_count": 27,
     "metadata": {},
     "output_type": "execute_result"
    }
   ],
   "source": [
    "boxes = [line[0] for line in result]\n",
    "boxes"
   ]
  },
  {
   "cell_type": "code",
   "execution_count": 28,
   "id": "92b97288",
   "metadata": {},
   "outputs": [
    {
     "data": {
      "text/plain": [
       "['KA 01 MR 8041']"
      ]
     },
     "execution_count": 28,
     "metadata": {},
     "output_type": "execute_result"
    }
   ],
   "source": [
    "txts = [line[1][0] for line in result]\n",
    "txts"
   ]
  },
  {
   "cell_type": "code",
   "execution_count": 29,
   "id": "679806d5",
   "metadata": {},
   "outputs": [
    {
     "data": {
      "text/plain": [
       "[0.881829559803009]"
      ]
     },
     "execution_count": 29,
     "metadata": {},
     "output_type": "execute_result"
    }
   ],
   "source": [
    "scores = [line[1][1] for line in result]\n",
    "scores"
   ]
  },
  {
   "cell_type": "code",
   "execution_count": null,
   "id": "ea732179",
   "metadata": {},
   "outputs": [],
   "source": []
  }
 ],
 "metadata": {
  "kernelspec": {
   "display_name": "anpr",
   "language": "python",
   "name": "anpr"
  },
  "language_info": {
   "codemirror_mode": {
    "name": "ipython",
    "version": 3
   },
   "file_extension": ".py",
   "mimetype": "text/x-python",
   "name": "python",
   "nbconvert_exporter": "python",
   "pygments_lexer": "ipython3",
   "version": "3.8.0"
  }
 },
 "nbformat": 4,
 "nbformat_minor": 5
}
